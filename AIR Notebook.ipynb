{
    "cells": [
        {
            "cell_type": "code",
            "execution_count": 28,
            "metadata": {},
            "outputs": [],
            "source": "import pandas as pd\nimport numpy as np\nimport matplotlib.pyplot as plt\nfrom sklearn.linear_model import LinearRegression\nfrom sklearn.model_selection import train_test_split\nfrom sklearn import metrics\nimport seaborn as sns\n%matplotlib inline"
        },
        {
            "cell_type": "code",
            "execution_count": 29,
            "metadata": {},
            "outputs": [],
            "source": "iris_data= pd.read_csv('https://raw.githubusercontent.com/awar667/AIR_project/master/Iris_Data.csv')"
        },
        {
            "cell_type": "code",
            "execution_count": 30,
            "metadata": {},
            "outputs": [
                {
                    "data": {
                        "text/html": "<div>\n<style scoped>\n    .dataframe tbody tr th:only-of-type {\n        vertical-align: middle;\n    }\n\n    .dataframe tbody tr th {\n        vertical-align: top;\n    }\n\n    .dataframe thead th {\n        text-align: right;\n    }\n</style>\n<table border=\"1\" class=\"dataframe\">\n  <thead>\n    <tr style=\"text-align: right;\">\n      <th></th>\n      <th>Sepal Length</th>\n      <th>Sepal Width</th>\n      <th>Petal Length</th>\n      <th>Petal Width</th>\n      <th>Labels</th>\n    </tr>\n  </thead>\n  <tbody>\n    <tr>\n      <th>0</th>\n      <td>5.1</td>\n      <td>3.5</td>\n      <td>1.4</td>\n      <td>0.2</td>\n      <td>0</td>\n    </tr>\n    <tr>\n      <th>1</th>\n      <td>4.9</td>\n      <td>3.0</td>\n      <td>1.4</td>\n      <td>0.2</td>\n      <td>0</td>\n    </tr>\n    <tr>\n      <th>2</th>\n      <td>4.7</td>\n      <td>3.2</td>\n      <td>1.3</td>\n      <td>0.2</td>\n      <td>0</td>\n    </tr>\n    <tr>\n      <th>3</th>\n      <td>4.6</td>\n      <td>3.1</td>\n      <td>1.5</td>\n      <td>0.2</td>\n      <td>0</td>\n    </tr>\n    <tr>\n      <th>4</th>\n      <td>5.0</td>\n      <td>3.6</td>\n      <td>1.4</td>\n      <td>0.2</td>\n      <td>0</td>\n    </tr>\n  </tbody>\n</table>\n</div>",
                        "text/plain": "   Sepal Length  Sepal Width   Petal Length  Petal Width  Labels\n0           5.1          3.5            1.4          0.2       0\n1           4.9          3.0            1.4          0.2       0\n2           4.7          3.2            1.3          0.2       0\n3           4.6          3.1            1.5          0.2       0\n4           5.0          3.6            1.4          0.2       0"
                    },
                    "execution_count": 30,
                    "metadata": {},
                    "output_type": "execute_result"
                }
            ],
            "source": "iris_data.head()"
        },
        {
            "cell_type": "markdown",
            "metadata": {},
            "source": "## 1.a Number of Irises per Species (Labels 0, 1, and 2)"
        },
        {
            "cell_type": "code",
            "execution_count": 31,
            "metadata": {},
            "outputs": [
                {
                    "name": "stdout",
                    "output_type": "stream",
                    "text": "Number of Species of label 0:  50\n"
                }
            ],
            "source": "lab_0 = iris_data.apply(lambda x: True if x['Labels'] == 0 else False , axis=1)\nnumOf0 = len(lab_0[lab_0==True].index)\nprint('Number of Species of label 0: ', numOf0)"
        },
        {
            "cell_type": "code",
            "execution_count": 32,
            "metadata": {},
            "outputs": [
                {
                    "name": "stdout",
                    "output_type": "stream",
                    "text": "Number of Species of label 1:  50\n"
                }
            ],
            "source": "lab_1 = iris_data.apply(lambda x: True if x['Labels'] == 1 else False , axis=1)\nnumOf1 = len(lab_1[lab_1==True].index)\nprint('Number of Species of label 1: ', numOf1)"
        },
        {
            "cell_type": "code",
            "execution_count": 33,
            "metadata": {},
            "outputs": [
                {
                    "name": "stdout",
                    "output_type": "stream",
                    "text": "Number of Species of label 2:  50\n"
                }
            ],
            "source": "lab_2 = iris_data.apply(lambda x: True if x['Labels'] == 2 else False , axis=1)\nnumOf2 = len(lab_2[lab_2==True].index)\nprint('Number of Species of label 2: ', numOf2)"
        },
        {
            "cell_type": "markdown",
            "metadata": {},
            "source": "## 1.b Plotting "
        },
        {
            "cell_type": "code",
            "execution_count": 41,
            "metadata": {},
            "outputs": [],
            "source": "iris_data.columns = ['Sepal_Length','Sepal_Width','Petal_Length','Petal_Width','Labels']"
        },
        {
            "cell_type": "code",
            "execution_count": 46,
            "metadata": {
                "scrolled": true
            },
            "outputs": [
                {
                    "data": {
                        "image/png": "[encoded data removed]",
                        "text/plain": "<Figure size 432x288 with 1 Axes>"
                    },
                    "metadata": {
                        "needs_background": "light"
                    },
                    "output_type": "display_data"
                }
            ],
            "source": "plt.scatter(iris_data.Petal_Length,iris_data.Sepal_Length, s=10, c = iris_data.Labels)\nplt.title('Petal Length vs Sepal Length')\nplt.xlabel('Petal Length')\nplt.ylabel('Sepal Length')\nplt.show()"
        },
        {
            "cell_type": "markdown",
            "metadata": {},
            "source": "### Results: There is a high, positive correlation between petal length and sepal length. The three species can be most reliably distinguished by their petal lengths, as there is significantly less overlap between the ranges of their respective petal lengths than the ranges of their respective sepal lengths. Species 0 has a particularly distinct range of pedal lengths compared to the other two. "
        },
        {
            "cell_type": "code",
            "execution_count": 50,
            "metadata": {},
            "outputs": [],
            "source": "X = iris_data[['Petal_Length','Petal_Width','Sepal_Width']].values\ny = iris_data['Sepal_Length'].values"
        },
        {
            "cell_type": "code",
            "execution_count": 51,
            "metadata": {},
            "outputs": [],
            "source": "X_train, X_test, y_train, y_test = train_test_split(X, y, test_size=0.4)"
        },
        {
            "cell_type": "code",
            "execution_count": 52,
            "metadata": {},
            "outputs": [
                {
                    "data": {
                        "text/plain": "LinearRegression(copy_X=True, fit_intercept=True, n_jobs=None,\n         normalize=False)"
                    },
                    "execution_count": 52,
                    "metadata": {},
                    "output_type": "execute_result"
                }
            ],
            "source": "reg = LinearRegression()\nreg.fit(X_train,y_train)"
        },
        {
            "cell_type": "code",
            "execution_count": 56,
            "metadata": {},
            "outputs": [
                {
                    "data": {
                        "text/html": "<div>\n<style scoped>\n    .dataframe tbody tr th:only-of-type {\n        vertical-align: middle;\n    }\n\n    .dataframe tbody tr th {\n        vertical-align: top;\n    }\n\n    .dataframe thead th {\n        text-align: right;\n    }\n</style>\n<table border=\"1\" class=\"dataframe\">\n  <thead>\n    <tr style=\"text-align: right;\">\n      <th></th>\n      <th>Coef</th>\n    </tr>\n  </thead>\n  <tbody>\n    <tr>\n      <th>Petal_Length</th>\n      <td>0.828885</td>\n    </tr>\n    <tr>\n      <th>Petal_Width</th>\n      <td>-0.844081</td>\n    </tr>\n    <tr>\n      <th>Sepal_Width</th>\n      <td>0.649416</td>\n    </tr>\n  </tbody>\n</table>\n</div>",
                        "text/plain": "                  Coef\nPetal_Length  0.828885\nPetal_Width  -0.844081\nSepal_Width   0.649416"
                    },
                    "execution_count": 56,
                    "metadata": {},
                    "output_type": "execute_result"
                }
            ],
            "source": "desc = pd.DataFrame(reg.coef_, ['Petal_Length','Petal_Width','Sepal_Width'], columns=['Coef'])\ndesc"
        },
        {
            "cell_type": "markdown",
            "metadata": {},
            "source": "## 1.d Results: The high, positive coefficient returned for petal length after linear regression matches what we would expect from the scatter plot generated earlier. A greater petal length is thus a reliable predictor for a greater sepal length. However, the regression model suggests that it is not as good of a sepal length predictor as the petal width, which has a slightly higher magnitude of correlation with sepal length, although the correlation is negative for petal width. Both petal length and width are significantly better predictors of sepal length than sepal width, which is still a moderately reliable predictor. "
        },
        {
            "cell_type": "markdown",
            "metadata": {},
            "source": "## 1.e Extra Credit"
        },
        {
            "cell_type": "code",
            "execution_count": 59,
            "metadata": {},
            "outputs": [],
            "source": "X = iris_data[['Petal_Length','Petal_Width','Sepal_Width','Labels']].values\ny = iris_data['Sepal_Length'].values"
        },
        {
            "cell_type": "code",
            "execution_count": 60,
            "metadata": {},
            "outputs": [],
            "source": "X_train, X_test, y_train, y_test = train_test_split(X, y, test_size=0.4)"
        },
        {
            "cell_type": "code",
            "execution_count": 61,
            "metadata": {},
            "outputs": [
                {
                    "data": {
                        "text/plain": "LinearRegression(copy_X=True, fit_intercept=True, n_jobs=None,\n         normalize=False)"
                    },
                    "execution_count": 61,
                    "metadata": {},
                    "output_type": "execute_result"
                }
            ],
            "source": "reg = LinearRegression()\nreg.fit(X_train,y_train)"
        },
        {
            "cell_type": "code",
            "execution_count": 63,
            "metadata": {},
            "outputs": [
                {
                    "data": {
                        "text/html": "<div>\n<style scoped>\n    .dataframe tbody tr th:only-of-type {\n        vertical-align: middle;\n    }\n\n    .dataframe tbody tr th {\n        vertical-align: top;\n    }\n\n    .dataframe thead th {\n        text-align: right;\n    }\n</style>\n<table border=\"1\" class=\"dataframe\">\n  <thead>\n    <tr style=\"text-align: right;\">\n      <th></th>\n      <th>Coef</th>\n    </tr>\n  </thead>\n  <tbody>\n    <tr>\n      <th>Petal_Length</th>\n      <td>0.692566</td>\n    </tr>\n    <tr>\n      <th>Petal_Width</th>\n      <td>-0.491673</td>\n    </tr>\n    <tr>\n      <th>Sepal_Width</th>\n      <td>0.705396</td>\n    </tr>\n    <tr>\n      <th>Labels</th>\n      <td>0.002018</td>\n    </tr>\n  </tbody>\n</table>\n</div>",
                        "text/plain": "                  Coef\nPetal_Length  0.692566\nPetal_Width  -0.491673\nSepal_Width   0.705396\nLabels        0.002018"
                    },
                    "execution_count": 63,
                    "metadata": {},
                    "output_type": "execute_result"
                }
            ],
            "source": "desc2 = pd.DataFrame(reg.coef_, ['Petal_Length','Petal_Width','Sepal_Width', 'Labels'], columns=['Coef'])\ndesc2"
        },
        {
            "cell_type": "code",
            "execution_count": null,
            "metadata": {},
            "outputs": [],
            "source": ""
        }
    ],
    "metadata": {
        "kernelspec": {
            "display_name": "Python 3.6",
            "language": "python",
            "name": "python3"
        },
        "language_info": {
            "codemirror_mode": {
                "name": "ipython",
                "version": 3
            },
            "file_extension": ".py",
            "mimetype": "text/x-python",
            "name": "python",
            "nbconvert_exporter": "python",
            "pygments_lexer": "ipython3",
            "version": "3.6.9"
        }
    },
    "nbformat": 4,
    "nbformat_minor": 1
}