{
    "cells": [
        {
            "cell_type": "code",
            "execution_count": 26,
            "metadata": {},
            "outputs": [],
            "source": "str1 = \"Sentences work too\"\nstr2 = \"Sentences wAke too\""
        },
        {
            "cell_type": "code",
            "execution_count": 31,
            "metadata": {},
            "outputs": [],
            "source": "def hamming(str1, str2):\n    dist = 0\n    count = 0\n    for a, b in zip(str1,str2):\n        if (a != b):\n            if (a.isupper() and b.islower() and count != 0):\n                dist += 0.5\n            if (a.islower() and b.isupper() and count != 0):\n                dist += 0.5\n            if (a.upper() != b.upper()):\n                if(a.upper == \"Z\" and b.upper == \"S\"):\n                    dist+=0\n                elif(a.upper == \"S\" and b.upper == \"Z\"):\n                    dist+= 0\n                else:\n                    dist+=1\n        count +=1\n    print(dist)\n        "
        },
        {
            "cell_type": "code",
            "execution_count": 27,
            "metadata": {},
            "outputs": [
                {
                    "name": "stdout",
                    "output_type": "stream",
                    "text": "3.5\n"
                }
            ],
            "source": "hamming(str1,str2)"
        },
        {
            "cell_type": "markdown",
            "metadata": {},
            "source": "## 2.a"
        },
        {
            "cell_type": "code",
            "execution_count": 28,
            "metadata": {},
            "outputs": [
                {
                    "name": "stdout",
                    "output_type": "stream",
                    "text": "1\n"
                }
            ],
            "source": "a = \"data Science\"\nb = \"Data Sciency\"\nhamming(a,b)"
        },
        {
            "cell_type": "markdown",
            "metadata": {},
            "source": "## 2.b"
        },
        {
            "cell_type": "code",
            "execution_count": 32,
            "metadata": {},
            "outputs": [
                {
                    "name": "stdout",
                    "output_type": "stream",
                    "text": "1.5\n"
                }
            ],
            "source": "a = \"organizing\"\nb= \"orGanising\"\nhamming(a,b)"
        },
        {
            "cell_type": "markdown",
            "metadata": {},
            "source": "#### I understand the above should be 0.5 instead of 1.5. The program is having difficulty considering 's' to be the same as 'z,' but I do not understand why"
        },
        {
            "cell_type": "markdown",
            "metadata": {},
            "source": "## 2.c"
        },
        {
            "cell_type": "code",
            "execution_count": 33,
            "metadata": {},
            "outputs": [
                {
                    "name": "stdout",
                    "output_type": "stream",
                    "text": "8.5\n"
                }
            ],
            "source": "a = \"AGPRklafsdyweIllIIgEnXuTggzF\"\nb = \"AgpRkliFZdiweIllIIgENXUTygSF\"\nhamming(a,b)"
        },
        {
            "cell_type": "markdown",
            "metadata": {},
            "source": "#### Again, this should be 6.5 instead of 8.5"
        },
        {
            "cell_type": "markdown",
            "metadata": {},
            "source": "## 2.d Scenario: a Hamming distance algorithm would be useful in providing user suggestions. If they entered an unrecognized word into an interface (they made a typo), the Hamming distance algorithm could be used to survey the viable input options and compare the scores for each option. The lower the Hamming score, the more likely the user intended to select the given option. The program could then return the option with the lowest Hamming score, saying, \"Did you mean [x]?\""
        },
        {
            "cell_type": "code",
            "execution_count": null,
            "metadata": {},
            "outputs": [],
            "source": ""
        }
    ],
    "metadata": {
        "kernelspec": {
            "display_name": "Python 3.6",
            "language": "python",
            "name": "python3"
        },
        "language_info": {
            "codemirror_mode": {
                "name": "ipython",
                "version": 3
            },
            "file_extension": ".py",
            "mimetype": "text/x-python",
            "name": "python",
            "nbconvert_exporter": "python",
            "pygments_lexer": "ipython3",
            "version": "3.6.9"
        }
    },
    "nbformat": 4,
    "nbformat_minor": 1
}