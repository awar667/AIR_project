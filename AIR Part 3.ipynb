{
    "cells": [
        {
            "cell_type": "code",
            "execution_count": 1,
            "metadata": {},
            "outputs": [],
            "source": "import pandas as pd\nimport numpy as np"
        },
        {
            "cell_type": "code",
            "execution_count": 38,
            "metadata": {},
            "outputs": [],
            "source": "pat = pd.read_csv('https://raw.githubusercontent.com/awar667/AIR_project/master/patent_drawing.csv')"
        },
        {
            "cell_type": "code",
            "execution_count": 39,
            "metadata": {},
            "outputs": [
                {
                    "data": {
                        "text/html": "<div>\n<style scoped>\n    .dataframe tbody tr th:only-of-type {\n        vertical-align: middle;\n    }\n\n    .dataframe tbody tr th {\n        vertical-align: top;\n    }\n\n    .dataframe thead th {\n        text-align: right;\n    }\n</style>\n<table border=\"1\" class=\"dataframe\">\n  <thead>\n    <tr style=\"text-align: right;\">\n      <th></th>\n      <th>uuid</th>\n      <th>patent_id</th>\n      <th>text</th>\n    </tr>\n  </thead>\n  <tbody>\n    <tr>\n      <th>0</th>\n      <td>urfl2ulyjgez01g5selfflnz7</td>\n      <td>4491930</td>\n      <td>A better understanding of the invention may be...</td>\n    </tr>\n    <tr>\n      <th>1</th>\n      <td>nqdxwthotlcted3d961ao373x</td>\n      <td>4490979</td>\n      <td>A better understanding of the invention will b...</td>\n    </tr>\n    <tr>\n      <th>2</th>\n      <td>9mwinm7as0p0j3245tdxhfuiz</td>\n      <td>4491969</td>\n      <td>A better understanding of the invention will b...</td>\n    </tr>\n    <tr>\n      <th>3</th>\n      <td>l1n6w0ofqic6yow2t7qwmvqry</td>\n      <td>4490948</td>\n      <td>A better understanding of the present inventio...</td>\n    </tr>\n    <tr>\n      <th>4</th>\n      <td>86bndneq4omf3mfxi60dzr5mx</td>\n      <td>4491426</td>\n      <td>A better understanding of the present inventio...</td>\n    </tr>\n  </tbody>\n</table>\n</div>",
                        "text/plain": "                        uuid patent_id  \\\n0  urfl2ulyjgez01g5selfflnz7   4491930   \n1  nqdxwthotlcted3d961ao373x   4490979   \n2  9mwinm7as0p0j3245tdxhfuiz   4491969   \n3  l1n6w0ofqic6yow2t7qwmvqry   4490948   \n4  86bndneq4omf3mfxi60dzr5mx   4491426   \n\n                                                text  \n0  A better understanding of the invention may be...  \n1  A better understanding of the invention will b...  \n2  A better understanding of the invention will b...  \n3  A better understanding of the present inventio...  \n4  A better understanding of the present inventio...  "
                    },
                    "execution_count": 39,
                    "metadata": {},
                    "output_type": "execute_result"
                }
            ],
            "source": "pat.head()"
        },
        {
            "cell_type": "code",
            "execution_count": 22,
            "metadata": {},
            "outputs": [
                {
                    "data": {
                        "text/html": "<div>\n<style scoped>\n    .dataframe tbody tr th:only-of-type {\n        vertical-align: middle;\n    }\n\n    .dataframe tbody tr th {\n        vertical-align: top;\n    }\n\n    .dataframe thead th {\n        text-align: right;\n    }\n</style>\n<table border=\"1\" class=\"dataframe\">\n  <thead>\n    <tr style=\"text-align: right;\">\n      <th></th>\n      <th>uuid</th>\n      <th>patent_id</th>\n      <th>text</th>\n    </tr>\n  </thead>\n  <tbody>\n    <tr>\n      <th>13</th>\n      <td>kowiz2l3dzwexqfik80zyk3dh</td>\n      <td>D276953</td>\n      <td>A front perspective view with the front top fl...</td>\n    </tr>\n    <tr>\n      <th>28</th>\n      <td>3ia0hcg4oe6iwf5m40iuhybvh</td>\n      <td>4491273</td>\n      <td>A preferred embodiment of the invention will n...</td>\n    </tr>\n    <tr>\n      <th>342</th>\n      <td>f9vmqvlrv80p8sw7c1k1d34bc</td>\n      <td>4491158</td>\n      <td>FIG. 1 illustrates a perspective view of a gri...</td>\n    </tr>\n    <tr>\n      <th>343</th>\n      <td>4dxgdik8837euc91pcgcn1u0s</td>\n      <td>4491933</td>\n      <td>FIG. 1 illustrates a perspective view of a wor...</td>\n    </tr>\n    <tr>\n      <th>357</th>\n      <td>ltjjeviepkiwdwyj4tu9cpjqx</td>\n      <td>4491781</td>\n      <td>FIG. 1 illustrates, in perspective, a tester u...</td>\n    </tr>\n  </tbody>\n</table>\n</div>",
                        "text/plain": "                          uuid patent_id  \\\n13   kowiz2l3dzwexqfik80zyk3dh   D276953   \n28   3ia0hcg4oe6iwf5m40iuhybvh   4491273   \n342  f9vmqvlrv80p8sw7c1k1d34bc   4491158   \n343  4dxgdik8837euc91pcgcn1u0s   4491933   \n357  ltjjeviepkiwdwyj4tu9cpjqx   4491781   \n\n                                                  text  \n13   A front perspective view with the front top fl...  \n28   A preferred embodiment of the invention will n...  \n342  FIG. 1 illustrates a perspective view of a gri...  \n343  FIG. 1 illustrates a perspective view of a wor...  \n357  FIG. 1 illustrates, in perspective, a tester u...  "
                    },
                    "execution_count": 22,
                    "metadata": {},
                    "output_type": "execute_result"
                }
            ],
            "source": "unq1 = pat[pat['text'].str.contains(\"perspective\" or \"view\")]\ntest.head()"
        },
        {
            "cell_type": "code",
            "execution_count": 30,
            "metadata": {},
            "outputs": [],
            "source": "unq2 = unq1[~unq1[\"text\"].str.contains(\"bottom\")]\nunq3 = unq2[~unq2[\"text\"].str.contains(\"top\")]\nunq4 = unq3[~unq3[\"text\"].str.contains(\"front\")]\nunq5 = unq4[~unq4[\"text\"].str.contains(\"rear\")]"
        },
        {
            "cell_type": "code",
            "execution_count": 31,
            "metadata": {},
            "outputs": [
                {
                    "data": {
                        "text/html": "<div>\n<style scoped>\n    .dataframe tbody tr th:only-of-type {\n        vertical-align: middle;\n    }\n\n    .dataframe tbody tr th {\n        vertical-align: top;\n    }\n\n    .dataframe thead th {\n        text-align: right;\n    }\n</style>\n<table border=\"1\" class=\"dataframe\">\n  <thead>\n    <tr style=\"text-align: right;\">\n      <th></th>\n      <th>uuid</th>\n      <th>patent_id</th>\n      <th>text</th>\n    </tr>\n  </thead>\n  <tbody>\n    <tr>\n      <th>28</th>\n      <td>3ia0hcg4oe6iwf5m40iuhybvh</td>\n      <td>4491273</td>\n      <td>A preferred embodiment of the invention will n...</td>\n    </tr>\n    <tr>\n      <th>342</th>\n      <td>f9vmqvlrv80p8sw7c1k1d34bc</td>\n      <td>4491158</td>\n      <td>FIG. 1 illustrates a perspective view of a gri...</td>\n    </tr>\n    <tr>\n      <th>343</th>\n      <td>4dxgdik8837euc91pcgcn1u0s</td>\n      <td>4491933</td>\n      <td>FIG. 1 illustrates a perspective view of a wor...</td>\n    </tr>\n    <tr>\n      <th>357</th>\n      <td>ltjjeviepkiwdwyj4tu9cpjqx</td>\n      <td>4491781</td>\n      <td>FIG. 1 illustrates, in perspective, a tester u...</td>\n    </tr>\n    <tr>\n      <th>438</th>\n      <td>gmtnst7rzitaakq5rfcwkghhd</td>\n      <td>4491278</td>\n      <td>FIG. 1 is a detail perspective view of an enti...</td>\n    </tr>\n  </tbody>\n</table>\n</div>",
                        "text/plain": "                          uuid patent_id  \\\n28   3ia0hcg4oe6iwf5m40iuhybvh   4491273   \n342  f9vmqvlrv80p8sw7c1k1d34bc   4491158   \n343  4dxgdik8837euc91pcgcn1u0s   4491933   \n357  ltjjeviepkiwdwyj4tu9cpjqx   4491781   \n438  gmtnst7rzitaakq5rfcwkghhd   4491278   \n\n                                                  text  \n28   A preferred embodiment of the invention will n...  \n342  FIG. 1 illustrates a perspective view of a gri...  \n343  FIG. 1 illustrates a perspective view of a wor...  \n357  FIG. 1 illustrates, in perspective, a tester u...  \n438  FIG. 1 is a detail perspective view of an enti...  "
                    },
                    "execution_count": 31,
                    "metadata": {},
                    "output_type": "execute_result"
                }
            ],
            "source": "unq5.head()"
        },
        {
            "cell_type": "code",
            "execution_count": 32,
            "metadata": {},
            "outputs": [
                {
                    "data": {
                        "text/plain": "(657, 3)"
                    },
                    "execution_count": 32,
                    "metadata": {},
                    "output_type": "execute_result"
                }
            ],
            "source": "unq5.shape"
        },
        {
            "cell_type": "markdown",
            "metadata": {},
            "source": "## 3.a There are 657 non-standard perspectives"
        },
        {
            "cell_type": "code",
            "execution_count": 43,
            "metadata": {},
            "outputs": [
                {
                    "data": {
                        "text/plain": "7.4416058394160585"
                    },
                    "execution_count": 43,
                    "metadata": {},
                    "output_type": "execute_result"
                }
            ],
            "source": "count = pat.groupby(['patent_id']).count()\ncount.text.mean()"
        },
        {
            "cell_type": "markdown",
            "metadata": {},
            "source": "## ANSWER: average of 7.44 drawing descriptions per patent\n"
        }
    ],
    "metadata": {
        "kernelspec": {
            "display_name": "Python 3.6",
            "language": "python",
            "name": "python3"
        },
        "language_info": {
            "codemirror_mode": {
                "name": "ipython",
                "version": 3
            },
            "file_extension": ".py",
            "mimetype": "text/x-python",
            "name": "python",
            "nbconvert_exporter": "python",
            "pygments_lexer": "ipython3",
            "version": "3.6.9"
        }
    },
    "nbformat": 4,
    "nbformat_minor": 1
}